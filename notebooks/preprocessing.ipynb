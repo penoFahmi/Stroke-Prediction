{
 "cells": [
  {
   "cell_type": "markdown",
   "metadata": {},
   "source": [
    "Preprocessing Data\n",
    "1. Import Library\n",
    "Langkah awal adalah mengimpor library yang diperlukan. Berikut adalah kode dan penjelasannya:"
   ]
  },
  {
   "cell_type": "code",
   "execution_count": 1,
   "metadata": {},
   "outputs": [],
   "source": [
    "import pandas as pd\n",
    "import numpy as np\n",
    "import matplotlib.pyplot as plt\n",
    "import seaborn as sns\n",
    "import warnings\n",
    "warnings.filterwarnings('ignore')\n",
    "\n",
    "from sklearn.model_selection import train_test_split\n",
    "from sklearn.preprocessing import StandardScaler, MinMaxScaler, OneHotEncoder, OrdinalEncoder\n",
    "from sklearn.pipeline import Pipeline\n",
    "from sklearn.compose import ColumnTransformer\n",
    "from sklearn.impute import SimpleImputer, KNNImputer\n",
    "from sklearn.tree import DecisionTreeClassifier\n",
    "from sklearn.metrics import classification_report, confusion_matrix, accuracy_score\n"
   ]
  },
  {
   "cell_type": "markdown",
   "metadata": {},
   "source": [
    "Penjelasan:\n",
    "\n",
    "Pandas, Numpy: Untuk manipulasi data.\n",
    "Matplotlib, Seaborn: Untuk visualisasi data.\n",
    "Scikit-learn: Untuk preprocessing dan evaluasi model."
   ]
  },
  {
   "cell_type": "markdown",
   "metadata": {},
   "source": [
    "2. Membaca Dataset\n",
    "Dataset diimpor ke dalam Pandas DataFrame:"
   ]
  },
  {
   "cell_type": "code",
   "execution_count": 2,
   "metadata": {},
   "outputs": [
    {
     "data": {
      "text/html": [
       "<div>\n",
       "<style scoped>\n",
       "    .dataframe tbody tr th:only-of-type {\n",
       "        vertical-align: middle;\n",
       "    }\n",
       "\n",
       "    .dataframe tbody tr th {\n",
       "        vertical-align: top;\n",
       "    }\n",
       "\n",
       "    .dataframe thead th {\n",
       "        text-align: right;\n",
       "    }\n",
       "</style>\n",
       "<table border=\"1\" class=\"dataframe\">\n",
       "  <thead>\n",
       "    <tr style=\"text-align: right;\">\n",
       "      <th></th>\n",
       "      <th>id</th>\n",
       "      <th>gender</th>\n",
       "      <th>age</th>\n",
       "      <th>hypertension</th>\n",
       "      <th>heart_disease</th>\n",
       "      <th>ever_married</th>\n",
       "      <th>work_type</th>\n",
       "      <th>Residence_type</th>\n",
       "      <th>avg_glucose_level</th>\n",
       "      <th>bmi</th>\n",
       "      <th>smoking_status</th>\n",
       "      <th>stroke</th>\n",
       "    </tr>\n",
       "  </thead>\n",
       "  <tbody>\n",
       "    <tr>\n",
       "      <th>0</th>\n",
       "      <td>9046</td>\n",
       "      <td>Male</td>\n",
       "      <td>67.0</td>\n",
       "      <td>0</td>\n",
       "      <td>1</td>\n",
       "      <td>Yes</td>\n",
       "      <td>Private</td>\n",
       "      <td>Urban</td>\n",
       "      <td>228.69</td>\n",
       "      <td>36.6</td>\n",
       "      <td>formerly smoked</td>\n",
       "      <td>1</td>\n",
       "    </tr>\n",
       "    <tr>\n",
       "      <th>1</th>\n",
       "      <td>51676</td>\n",
       "      <td>Female</td>\n",
       "      <td>61.0</td>\n",
       "      <td>0</td>\n",
       "      <td>0</td>\n",
       "      <td>Yes</td>\n",
       "      <td>Self-employed</td>\n",
       "      <td>Rural</td>\n",
       "      <td>202.21</td>\n",
       "      <td>NaN</td>\n",
       "      <td>never smoked</td>\n",
       "      <td>1</td>\n",
       "    </tr>\n",
       "    <tr>\n",
       "      <th>2</th>\n",
       "      <td>31112</td>\n",
       "      <td>Male</td>\n",
       "      <td>80.0</td>\n",
       "      <td>0</td>\n",
       "      <td>1</td>\n",
       "      <td>Yes</td>\n",
       "      <td>Private</td>\n",
       "      <td>Rural</td>\n",
       "      <td>105.92</td>\n",
       "      <td>32.5</td>\n",
       "      <td>never smoked</td>\n",
       "      <td>1</td>\n",
       "    </tr>\n",
       "    <tr>\n",
       "      <th>3</th>\n",
       "      <td>60182</td>\n",
       "      <td>Female</td>\n",
       "      <td>49.0</td>\n",
       "      <td>0</td>\n",
       "      <td>0</td>\n",
       "      <td>Yes</td>\n",
       "      <td>Private</td>\n",
       "      <td>Urban</td>\n",
       "      <td>171.23</td>\n",
       "      <td>34.4</td>\n",
       "      <td>smokes</td>\n",
       "      <td>1</td>\n",
       "    </tr>\n",
       "    <tr>\n",
       "      <th>4</th>\n",
       "      <td>1665</td>\n",
       "      <td>Female</td>\n",
       "      <td>79.0</td>\n",
       "      <td>1</td>\n",
       "      <td>0</td>\n",
       "      <td>Yes</td>\n",
       "      <td>Self-employed</td>\n",
       "      <td>Rural</td>\n",
       "      <td>174.12</td>\n",
       "      <td>24.0</td>\n",
       "      <td>never smoked</td>\n",
       "      <td>1</td>\n",
       "    </tr>\n",
       "  </tbody>\n",
       "</table>\n",
       "</div>"
      ],
      "text/plain": [
       "      id  gender   age  hypertension  heart_disease ever_married  \\\n",
       "0   9046    Male  67.0             0              1          Yes   \n",
       "1  51676  Female  61.0             0              0          Yes   \n",
       "2  31112    Male  80.0             0              1          Yes   \n",
       "3  60182  Female  49.0             0              0          Yes   \n",
       "4   1665  Female  79.0             1              0          Yes   \n",
       "\n",
       "       work_type Residence_type  avg_glucose_level   bmi   smoking_status  \\\n",
       "0        Private          Urban             228.69  36.6  formerly smoked   \n",
       "1  Self-employed          Rural             202.21   NaN     never smoked   \n",
       "2        Private          Rural             105.92  32.5     never smoked   \n",
       "3        Private          Urban             171.23  34.4           smokes   \n",
       "4  Self-employed          Rural             174.12  24.0     never smoked   \n",
       "\n",
       "   stroke  \n",
       "0       1  \n",
       "1       1  \n",
       "2       1  \n",
       "3       1  \n",
       "4       1  "
      ]
     },
     "execution_count": 2,
     "metadata": {},
     "output_type": "execute_result"
    }
   ],
   "source": [
    "df = pd.read_csv('../data/healthcare-dataset-stroke-data.csv')\n",
    "df.head()\n"
   ]
  },
  {
   "cell_type": "markdown",
   "metadata": {},
   "source": [
    "Penjelasan:\n",
    "\n",
    "Dataset diimpor menggunakan pd.read_csv.\n",
    "Fungsi df.head() digunakan untuk melihat beberapa baris awal data."
   ]
  },
  {
   "cell_type": "markdown",
   "metadata": {},
   "source": [
    "3. Mengatasi Nilai Kosong\n",
    "Langkah ini penting untuk memastikan data tidak memiliki nilai yang hilang (missing values):"
   ]
  },
  {
   "cell_type": "code",
   "execution_count": 20,
   "metadata": {},
   "outputs": [],
   "source": [
    "# Menggunakan SimpleImputer untuk mengganti nilai kosong dengan rata-rata (mean)\n",
    "num_imputer = SimpleImputer(strategy='mean')\n",
    "\n",
    "# Alternatif: Menggunakan KNNImputer untuk imputasi berbasis tetangga terdekat\n",
    "knn_imputer = KNNImputer(n_neighbors=5)\n"
   ]
  },
  {
   "cell_type": "markdown",
   "metadata": {},
   "source": [
    "Penjelasan:\n",
    "\n",
    "SimpleImputer mengganti nilai kosong dengan rata-rata, median, atau modus.\n",
    "KNNImputer mengganti nilai kosong berdasarkan rata-rata fitur tetangga terdekat."
   ]
  },
  {
   "cell_type": "markdown",
   "metadata": {},
   "source": [
    "4. Scaling Data\n",
    "Data numerik diubah skalanya agar memiliki distribusi yang seragam, menggunakan StandardScaler atau MinMaxScaler:"
   ]
  },
  {
   "cell_type": "code",
   "execution_count": 21,
   "metadata": {},
   "outputs": [],
   "source": [
    "scaler = StandardScaler()\n",
    "# Alternatif\n",
    "# scaler = MinMaxScaler()\n"
   ]
  },
  {
   "cell_type": "markdown",
   "metadata": {},
   "source": [
    "Penjelasan:\n",
    "\n",
    "StandardScaler: Mengubah data agar memiliki distribusi normal (mean=0, std=1).\n",
    "MinMaxScaler: Menskalakan data ke rentang 0 hingga 1."
   ]
  },
  {
   "cell_type": "markdown",
   "metadata": {},
   "source": [
    "5. Encoding Variabel Kategorikal\n",
    "Variabel kategorikal dikonversi menjadi numerik menggunakan teknik encoding:"
   ]
  },
  {
   "cell_type": "code",
   "execution_count": 28,
   "metadata": {},
   "outputs": [],
   "source": [
    "cat_encoder = OneHotEncoder()\n"
   ]
  },
  {
   "cell_type": "markdown",
   "metadata": {},
   "source": [
    "Penjelasan:\n",
    "\n",
    "OneHotEncoder: Mengubah kategori menjadi vektor biner (misalnya, Urban/Rural menjadi [1, 0] atau [0, 1]).\n",
    "OrdinalEncoder: Mengurutkan kategori (misalnya, Low, Medium, High menjadi [0, 1, 2])."
   ]
  },
  {
   "cell_type": "markdown",
   "metadata": {},
   "source": [
    "6. Menggabungkan Langkah-Langkah Preprocessing\n",
    "Semua langkah preprocessing digabungkan dalam pipeline untuk efisiensi:"
   ]
  },
  {
   "cell_type": "code",
   "execution_count": 23,
   "metadata": {},
   "outputs": [],
   "source": [
    "# Pipeline untuk fitur numerik\n",
    "num_pipeline = Pipeline(steps=[\n",
    "    ('imputer', SimpleImputer(strategy='mean')),\n",
    "    ('scaler', StandardScaler())\n",
    "])\n",
    "\n",
    "# Pipeline untuk fitur kategorikal\n",
    "cat_pipeline = Pipeline(steps=[\n",
    "    ('imputer', SimpleImputer(strategy='most_frequent')),\n",
    "    ('encoder', OneHotEncoder())\n",
    "])\n",
    "\n",
    "# ColumnTransformer untuk menggabungkan pipeline\n",
    "preprocessor = ColumnTransformer(transformers=[\n",
    "    ('num', num_pipeline, ['age', 'bmi', 'avg_glucose_level']),\n",
    "    ('cat', cat_pipeline, ['gender', 'ever_married', 'work_type', 'Residence_type', 'smoking_status'])\n",
    "])\n"
   ]
  },
  {
   "cell_type": "markdown",
   "metadata": {},
   "source": [
    "Penjelasan:\n",
    "\n",
    "Pipeline: Menggabungkan beberapa langkah preprocessing menjadi satu proses.\n",
    "ColumnTransformer: Mengatur preprocessing berbeda untuk kolom numerik dan kategorikal."
   ]
  },
  {
   "cell_type": "markdown",
   "metadata": {},
   "source": []
  },
  {
   "cell_type": "code",
   "execution_count": null,
   "metadata": {},
   "outputs": [],
   "source": [
    "# import pandas as pd\n",
    "# from sklearn.model_selection import train_test_split\n",
    "# from sklearn.preprocessing import StandardScaler\n",
    "\n",
    "# # Memuat dataset\n",
    "# data = pd.read_csv('../data/healthcare-dataset-stroke-data.csv')\n",
    "\n",
    "# # Menghapus nilai yang kosong (missing values)\n",
    "# data = data.dropna()\n",
    "\n",
    "# # Melakukan encoding pada variabel kategorikal\n",
    "# data['gender'] = data['gender'].map({'Male': 1, 'Female': 0})  # Mengubah nilai gender menjadi 1 untuk Male dan 0 untuk Female\n",
    "# data['ever_married'] = data['ever_married'].map({'Yes': 1, 'No': 0})  # Mengubah status pernikahan menjadi 1 untuk Yes dan 0 untuk No\n",
    "# data['Residence_type'] = data['Residence_type'].map({'Urban': 1, 'Rural': 0})  # Mengubah jenis tempat tinggal menjadi 1 untuk Urban dan 0 untuk Rural\n",
    "# data['smoking_status'] = data['smoking_status'].map({'never smoked': 0, 'formerly smoked': 1, 'smokes': 2})  # Mengubah status merokok ke nilai numerik\n",
    "\n",
    "# # Pemilihan fitur (feature selection)\n",
    "# X = data[['age', 'bmi', 'avg_glucose_level', 'gender', 'smoking_status']]  # Memilih kolom yang relevan sebagai fitur\n",
    "# y = data['stroke']  # Target variabel adalah kolom stroke\n",
    "\n",
    "# # Membagi data menjadi data latih (train) dan data uji (test)\n",
    "# X_train, X_test, y_train, y_test = train_test_split(X, y, test_size=0.2, random_state=42)\n",
    "\n",
    "# # Normalisasi/Standarisasi data fitur menggunakan StandardScaler\n",
    "# scaler = StandardScaler()\n",
    "# X_train = scaler.fit_transform(X_train)  # Menyesuaikan scaler dengan data latih dan mentransformasikan data latih\n",
    "# X_test = scaler.transform(X_test)  # Menggunakan scaler yang sama untuk mentransformasikan data uji\n",
    "\n",
    "# # Menyimpan data yang sudah diproses ke dalam file pickle\n",
    "# processed_data = {'X_train': X_train, 'X_test': X_test, 'y_train': y_train, 'y_test': y_test}\n",
    "# pd.to_pickle(processed_data, '../data/processed_data.pkl')  # Menyimpan data yang sudah diproses\n"
   ]
  },
  {
   "cell_type": "code",
   "execution_count": 10,
   "metadata": {},
   "outputs": [
    {
     "name": "stdout",
     "output_type": "stream",
     "text": [
      "Data preprocessing selesai, data dan scaler disimpan.\n"
     ]
    }
   ],
   "source": [
    "import pandas as pd\n",
    "from sklearn.model_selection import train_test_split\n",
    "from sklearn.preprocessing import StandardScaler\n",
    "import joblib\n",
    "\n",
    "# Memuat dataset\n",
    "data = pd.read_csv('../data/healthcare-dataset-stroke-data.csv')\n",
    "\n",
    "# Mengatasi nilai kosong pada BMI\n",
    "data['bmi'] = data['bmi'].fillna(data['bmi'].mean())\n",
    "\n",
    "# Melakukan encoding pada variabel kategorikal\n",
    "data['gender'] = data['gender'].map({'Male': 1, 'Female': 0})\n",
    "data['ever_married'] = data['ever_married'].map({'Yes': 1, 'No': 0})\n",
    "data['Residence_type'] = data['Residence_type'].map({'Urban': 1, 'Rural': 0})\n",
    "data['smoking_status'] = data['smoking_status'].map({'never smoked': 0, 'formerly smoked': 1, 'smokes': 2, 'Unknown': -1})\n",
    "\n",
    "# Pemilihan fitur\n",
    "X = data[['age', 'bmi', 'avg_glucose_level', 'gender', 'smoking_status', 'ever_married', 'Residence_type']]\n",
    "y = data['stroke']\n",
    "\n",
    "# Membagi data\n",
    "X_train, X_test, y_train, y_test = train_test_split(X, y, test_size=0.2, random_state=42, stratify=y)\n",
    "\n",
    "# Normalisasi data\n",
    "scaler = StandardScaler()\n",
    "X_train = scaler.fit_transform(X_train)\n",
    "X_test = scaler.transform(X_test)\n",
    "\n",
    "# Menyimpan data yang sudah diproses dan scaler\n",
    "processed_data = {'X_train': X_train, 'X_test': X_test, 'y_train': y_train, 'y_test': y_test}\n",
    "pd.to_pickle(processed_data, '../data/processed_data.pkl')\n",
    "joblib.dump(scaler, '../data/scaler.pkl')\n",
    "\n",
    "print(\"Data preprocessing selesai, data dan scaler disimpan.\")\n"
   ]
  }
 ],
 "metadata": {
  "kernelspec": {
   "display_name": "Python 3",
   "language": "python",
   "name": "python3"
  },
  "language_info": {
   "codemirror_mode": {
    "name": "ipython",
    "version": 3
   },
   "file_extension": ".py",
   "mimetype": "text/x-python",
   "name": "python",
   "nbconvert_exporter": "python",
   "pygments_lexer": "ipython3",
   "version": "3.13.0"
  }
 },
 "nbformat": 4,
 "nbformat_minor": 2
}
