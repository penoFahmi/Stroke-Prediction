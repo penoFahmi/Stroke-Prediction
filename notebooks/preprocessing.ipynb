{
 "cells": [
  {
   "cell_type": "code",
   "execution_count": null,
   "metadata": {},
   "outputs": [],
   "source": [
    "import pandas as pd\n",
    "from sklearn.model_selection import train_test_split\n",
    "from sklearn.preprocessing import StandardScaler\n",
    "\n",
    "# Memuat dataset\n",
    "data = pd.read_csv('../data/healthcare-dataset-stroke-data.csv')\n",
    "\n",
    "# Menghapus nilai yang kosong (missing values)\n",
    "data = data.dropna()\n",
    "\n",
    "# Melakukan encoding pada variabel kategorikal\n",
    "data['gender'] = data['gender'].map({'Male': 1, 'Female': 0})  # Mengubah nilai gender menjadi 1 untuk Male dan 0 untuk Female\n",
    "data['ever_married'] = data['ever_married'].map({'Yes': 1, 'No': 0})  # Mengubah status pernikahan menjadi 1 untuk Yes dan 0 untuk No\n",
    "data['Residence_type'] = data['Residence_type'].map({'Urban': 1, 'Rural': 0})  # Mengubah jenis tempat tinggal menjadi 1 untuk Urban dan 0 untuk Rural\n",
    "data['smoking_status'] = data['smoking_status'].map({'never smoked': 0, 'formerly smoked': 1, 'smokes': 2})  # Mengubah status merokok ke nilai numerik\n",
    "\n",
    "# Pemilihan fitur (feature selection)\n",
    "X = data[['age', 'bmi', 'avg_glucose_level', 'gender', 'smoking_status']]  # Memilih kolom yang relevan sebagai fitur\n",
    "y = data['stroke']  # Target variabel adalah kolom stroke\n",
    "\n",
    "# Membagi data menjadi data latih (train) dan data uji (test)\n",
    "X_train, X_test, y_train, y_test = train_test_split(X, y, test_size=0.2, random_state=42)\n",
    "\n",
    "# Normalisasi/Standarisasi data fitur menggunakan StandardScaler\n",
    "scaler = StandardScaler()\n",
    "X_train = scaler.fit_transform(X_train)  # Menyesuaikan scaler dengan data latih dan mentransformasikan data latih\n",
    "X_test = scaler.transform(X_test)  # Menggunakan scaler yang sama untuk mentransformasikan data uji\n",
    "\n",
    "# Menyimpan data yang sudah diproses ke dalam file pickle\n",
    "processed_data = {'X_train': X_train, 'X_test': X_test, 'y_train': y_train, 'y_test': y_test}\n",
    "pd.to_pickle(processed_data, '../data/processed_data.pkl')  # Menyimpan data yang sudah diproses\n"
   ]
  }
 ],
 "metadata": {
  "kernelspec": {
   "display_name": "Python 3",
   "language": "python",
   "name": "python3"
  },
  "language_info": {
   "codemirror_mode": {
    "name": "ipython",
    "version": 3
   },
   "file_extension": ".py",
   "mimetype": "text/x-python",
   "name": "python",
   "nbconvert_exporter": "python",
   "pygments_lexer": "ipython3",
   "version": "3.13.0"
  }
 },
 "nbformat": 4,
 "nbformat_minor": 2
}
