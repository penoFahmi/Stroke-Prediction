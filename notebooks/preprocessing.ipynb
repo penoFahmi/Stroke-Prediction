{
 "cells": [
  {
   "cell_type": "code",
   "execution_count": 2,
   "metadata": {},
   "outputs": [],
   "source": [
    "import pandas as pd\n",
    "from sklearn.model_selection import train_test_split\n",
    "from sklearn.preprocessing import StandardScaler\n",
    "\n",
    "# Load dataset\n",
    "data = pd.read_csv('C:/Users/penof/Documents/5 sem/Kapita Salekta RPL/Tugas Besar KS-RPL/data/healthcare-dataset-stroke-data.csv')\n",
    "\n",
    "# Drop missing values\n",
    "data = data.dropna()\n",
    "\n",
    "# Encoding categorical variables\n",
    "data['gender'] = data['gender'].map({'Male': 1, 'Female': 0})\n",
    "data['ever_married'] = data['ever_married'].map({'Yes': 1, 'No': 0})\n",
    "data['Residence_type'] = data['Residence_type'].map({'Urban': 1, 'Rural': 0})\n",
    "data['smoking_status'] = data['smoking_status'].map({'never smoked': 0, 'formerly smoked': 1, 'smokes': 2})\n",
    "\n",
    "# Feature selection\n",
    "X = data[['age', 'bmi', 'avg_glucose_level', 'gender', 'smoking_status']]\n",
    "y = data['stroke']\n",
    "\n",
    "# Splitting data\n",
    "X_train, X_test, y_train, y_test = train_test_split(X, y, test_size=0.2, random_state=42)\n",
    "\n",
    "# Scaling\n",
    "scaler = StandardScaler()\n",
    "X_train = scaler.fit_transform(X_train)\n",
    "X_test = scaler.transform(X_test)\n",
    "\n",
    "# Save processed data\n",
    "processed_data = {'X_train': X_train, 'X_test': X_test, 'y_train': y_train, 'y_test': y_test}\n",
    "pd.to_pickle(processed_data, '../data/processed_data.pkl')\n"
   ]
  }
 ],
 "metadata": {
  "kernelspec": {
   "display_name": "Python 3",
   "language": "python",
   "name": "python3"
  },
  "language_info": {
   "codemirror_mode": {
    "name": "ipython",
    "version": 3
   },
   "file_extension": ".py",
   "mimetype": "text/x-python",
   "name": "python",
   "nbconvert_exporter": "python",
   "pygments_lexer": "ipython3",
   "version": "3.13.0"
  }
 },
 "nbformat": 4,
 "nbformat_minor": 2
}
