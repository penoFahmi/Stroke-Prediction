{
 "cells": [
  {
   "cell_type": "markdown",
   "id": "4456265f",
   "metadata": {
    "papermill": {
     "duration": 0.010067,
     "end_time": "2024-04-16T08:45:16.647352",
     "exception": false,
     "start_time": "2024-04-16T08:45:16.637285",
     "status": "completed"
    },
    "tags": []
   },
   "source": [
    "# Identitas \n",
    "\n",
    "- Nama: Alfina Richi \n",
    "- Batch: 6\n",
    "- ID  : 9326862"
   ]
  },
  {
   "cell_type": "markdown",
   "id": "67f6be88",
   "metadata": {
    "papermill": {
     "duration": 0.009481,
     "end_time": "2024-04-16T08:45:16.666644",
     "exception": false,
     "start_time": "2024-04-16T08:45:16.657163",
     "status": "completed"
    },
    "tags": []
   },
   "source": [
    "# Background \n",
    "\n",
    "  \n",
    "* Diberikan sebuah dataset yang berisi berbagai fitur dan kesehatan individu, tujuannya adalah untuk mengembangkan model prediktif yang dapat mengklasifikasikan dengan akurat apakah seseorang berisiko mengalami stroke. Model harus mempertimbangkan faktor-faktor seperti usia, jenis kelamin, hipertensi, penyakit jantung, status merokok, dan BMI untuk melakukan prediksi. Tujuannya adalah menciptakan alat yang dapat diandalkan untuk membantu profesional kesehatan dalam mengidentifikasi individu yang mungkin rentan terhadap stroke sehingga langkah pencegahan dapat diambil untuk mengurangi risiko.\n",
    "\n"
   ]
  },
  {
   "cell_type": "markdown",
   "id": "8c54c64c",
   "metadata": {
    "papermill": {
     "duration": 0.00929,
     "end_time": "2024-04-16T08:45:16.685691",
     "exception": false,
     "start_time": "2024-04-16T08:45:16.676401",
     "status": "completed"
    },
    "tags": []
   },
   "source": [
    "# Problem Statement \n",
    "\n",
    "* Penyakit Stroke merupakan salah satu masalah kesehatan yang dapat mengancam jiwa, masih banyak sekali kesulitan yang ditemukan dalam mengidentifikasi individu yang mengalami stroke. Oleh karena itu diperlukan pengembangan model prediktif yang dapat memprediksi risiko seseorang mengalami stroke berdasarkan faktor-faktor risiko tertentu. "
   ]
  },
  {
   "cell_type": "markdown",
   "id": "2775fbd1",
   "metadata": {
    "papermill": {
     "duration": 0.00933,
     "end_time": "2024-04-16T08:45:16.705140",
     "exception": false,
     "start_time": "2024-04-16T08:45:16.695810",
     "status": "completed"
    },
    "tags": []
   },
   "source": [
    "# Key Question \n",
    "* Apakah terdapat rentang usia tertentu yang lebih rentan terhadap stroke ? \n",
    "* Seberapa besar pengaruh hipertensi terhadap risiko stroke?\n",
    "* Apakah tingkat glukosa darah rata-rata berkorelasi dengan risiko stroke?\n",
    "* Apakah status merokok (formerly smoked, never smoked, smokes) memengaruhi risiko stroke?\n",
    "* Apakah terdapat pola hubungan antara BMI dan kejadian stroke?\n",
    "\n",
    "\n",
    "\n",
    "\n",
    "\n"
   ]
  },
  {
   "cell_type": "markdown",
   "id": "b3b7d75a",
   "metadata": {
    "papermill": {
     "duration": 0.010101,
     "end_time": "2024-04-16T08:45:16.724831",
     "exception": false,
     "start_time": "2024-04-16T08:45:16.714730",
     "status": "completed"
    },
    "tags": []
   },
   "source": [
    "# Atribut Information \n",
    "\n",
    "*  id: unique identifier\n",
    "* gender: \"Male\", \"Female\" or \"Other\"\n",
    "* age: age of the patient\n",
    "* hypertension: 0 if the patient doesn't have hypertension, 1 if the patient has hypertension\n",
    "* heart_disease: 0 if the patient doesn't have any heart diseases, 1 if the patient has a heart disease\n",
    "* ever_married: \"No\" or \"Yes\"\n",
    "* work_type: \"children\", \"Govt_jov\", \"Never_worked\", \"Private\" or \"Self-employed\"\n",
    "* Residence_type: \"Rural\" or \"Urban\"\n",
    "* avg_glucose_level: average glucose level in blood\n",
    "* bmi: body mass index => weight in kilograms / the square of height in meters\n",
    "* smoking_status: \"formerly smoked\", \"never smoked\", \"smokes\" or \"Unknown\"\n",
    "* stroke: 1 if the patient had a stroke or 0 if not\n",
    "\n",
    "\n",
    "    "
   ]
  },
  {
   "cell_type": "markdown",
   "id": "056c4c72",
   "metadata": {
    "papermill": {
     "duration": 0.009285,
     "end_time": "2024-04-16T08:45:16.744189",
     "exception": false,
     "start_time": "2024-04-16T08:45:16.734904",
     "status": "completed"
    },
    "tags": []
   },
   "source": [
    "# Import Library "
   ]
  },
  {
   "cell_type": "code",
   "execution_count": 1,
   "id": "c61768a2",
   "metadata": {
    "execution": {
     "iopub.execute_input": "2024-04-16T08:45:16.765335Z",
     "iopub.status.busy": "2024-04-16T08:45:16.764907Z",
     "iopub.status.idle": "2024-04-16T08:45:20.797642Z",
     "shell.execute_reply": "2024-04-16T08:45:20.795917Z"
    },
    "papermill": {
     "duration": 4.047311,
     "end_time": "2024-04-16T08:45:20.801107",
     "exception": false,
     "start_time": "2024-04-16T08:45:16.753796",
     "status": "completed"
    },
    "tags": []
   },
   "outputs": [],
   "source": [
    "import pandas as pd\n",
    "import numpy as np\n",
    "import matplotlib.pyplot as plt\n",
    "import seaborn as sns\n",
    "import plotly.express as px\n",
    "import warnings\n",
    "warnings.filterwarnings('ignore')\n",
    "\n",
    "from sklearn.model_selection import train_test_split\n",
    "from sklearn.preprocessing import StandardScaler, MinMaxScaler, \\\n",
    "OneHotEncoder, OrdinalEncoder\n",
    "from sklearn.pipeline import Pipeline\n",
    "from sklearn.compose import ColumnTransformer\n",
    "from sklearn.impute import SimpleImputer, KNNImputer\n",
    "from sklearn.tree import DecisionTreeClassifier\n",
    "from sklearn.ensemble import RandomForestClassifier\n",
    "from sklearn.metrics import classification_report, accuracy_score, precision_score, recall_score\n",
    "from sklearn.metrics import confusion_matrix, ConfusionMatrixDisplay, f1_score\n"
   ]
  },
  {
   "cell_type": "markdown",
   "id": "7c318b00",
   "metadata": {
    "papermill": {
     "duration": 0.014097,
     "end_time": "2024-04-16T08:45:20.830587",
     "exception": false,
     "start_time": "2024-04-16T08:45:20.816490",
     "status": "completed"
    },
    "tags": []
   },
   "source": [
    "# Data Loading"
   ]
  },
  {
   "cell_type": "code",
   "execution_count": 2,
   "id": "300760af",
   "metadata": {
    "execution": {
     "iopub.execute_input": "2024-04-16T08:45:20.853428Z",
     "iopub.status.busy": "2024-04-16T08:45:20.852207Z",
     "iopub.status.idle": "2024-04-16T08:45:20.900697Z",
     "shell.execute_reply": "2024-04-16T08:45:20.899159Z"
    },
    "papermill": {
     "duration": 0.063128,
     "end_time": "2024-04-16T08:45:20.904564",
     "exception": false,
     "start_time": "2024-04-16T08:45:20.841436",
     "status": "completed"
    },
    "tags": []
   },
   "outputs": [],
   "source": [
    "df= pd.read_csv('C:/Users/penof/Documents/5 sem/Kapita Salekta RPL/Tugas Besar KS-RPL/healthcare-dataset-stroke-data.csv')"
   ]
  },
  {
   "cell_type": "code",
   "execution_count": 3,
   "id": "068206b4",
   "metadata": {
    "execution": {
     "iopub.execute_input": "2024-04-16T08:45:20.927261Z",
     "iopub.status.busy": "2024-04-16T08:45:20.926845Z",
     "iopub.status.idle": "2024-04-16T08:45:20.955062Z",
     "shell.execute_reply": "2024-04-16T08:45:20.953799Z"
    },
    "papermill": {
     "duration": 0.043275,
     "end_time": "2024-04-16T08:45:20.959060",
     "exception": false,
     "start_time": "2024-04-16T08:45:20.915785",
     "status": "completed"
    },
    "tags": []
   },
   "outputs": [
    {
     "data": {
      "text/html": [
       "<div>\n",
       "<style scoped>\n",
       "    .dataframe tbody tr th:only-of-type {\n",
       "        vertical-align: middle;\n",
       "    }\n",
       "\n",
       "    .dataframe tbody tr th {\n",
       "        vertical-align: top;\n",
       "    }\n",
       "\n",
       "    .dataframe thead th {\n",
       "        text-align: right;\n",
       "    }\n",
       "</style>\n",
       "<table border=\"1\" class=\"dataframe\">\n",
       "  <thead>\n",
       "    <tr style=\"text-align: right;\">\n",
       "      <th></th>\n",
       "      <th>id</th>\n",
       "      <th>gender</th>\n",
       "      <th>age</th>\n",
       "      <th>hypertension</th>\n",
       "      <th>heart_disease</th>\n",
       "      <th>ever_married</th>\n",
       "      <th>work_type</th>\n",
       "      <th>Residence_type</th>\n",
       "      <th>avg_glucose_level</th>\n",
       "      <th>bmi</th>\n",
       "      <th>smoking_status</th>\n",
       "      <th>stroke</th>\n",
       "    </tr>\n",
       "  </thead>\n",
       "  <tbody>\n",
       "    <tr>\n",
       "      <th>0</th>\n",
       "      <td>9046</td>\n",
       "      <td>Male</td>\n",
       "      <td>67.0</td>\n",
       "      <td>0</td>\n",
       "      <td>1</td>\n",
       "      <td>Yes</td>\n",
       "      <td>Private</td>\n",
       "      <td>Urban</td>\n",
       "      <td>228.69</td>\n",
       "      <td>36.6</td>\n",
       "      <td>formerly smoked</td>\n",
       "      <td>1</td>\n",
       "    </tr>\n",
       "    <tr>\n",
       "      <th>1</th>\n",
       "      <td>51676</td>\n",
       "      <td>Female</td>\n",
       "      <td>61.0</td>\n",
       "      <td>0</td>\n",
       "      <td>0</td>\n",
       "      <td>Yes</td>\n",
       "      <td>Self-employed</td>\n",
       "      <td>Rural</td>\n",
       "      <td>202.21</td>\n",
       "      <td>NaN</td>\n",
       "      <td>never smoked</td>\n",
       "      <td>1</td>\n",
       "    </tr>\n",
       "    <tr>\n",
       "      <th>2</th>\n",
       "      <td>31112</td>\n",
       "      <td>Male</td>\n",
       "      <td>80.0</td>\n",
       "      <td>0</td>\n",
       "      <td>1</td>\n",
       "      <td>Yes</td>\n",
       "      <td>Private</td>\n",
       "      <td>Rural</td>\n",
       "      <td>105.92</td>\n",
       "      <td>32.5</td>\n",
       "      <td>never smoked</td>\n",
       "      <td>1</td>\n",
       "    </tr>\n",
       "    <tr>\n",
       "      <th>3</th>\n",
       "      <td>60182</td>\n",
       "      <td>Female</td>\n",
       "      <td>49.0</td>\n",
       "      <td>0</td>\n",
       "      <td>0</td>\n",
       "      <td>Yes</td>\n",
       "      <td>Private</td>\n",
       "      <td>Urban</td>\n",
       "      <td>171.23</td>\n",
       "      <td>34.4</td>\n",
       "      <td>smokes</td>\n",
       "      <td>1</td>\n",
       "    </tr>\n",
       "    <tr>\n",
       "      <th>4</th>\n",
       "      <td>1665</td>\n",
       "      <td>Female</td>\n",
       "      <td>79.0</td>\n",
       "      <td>1</td>\n",
       "      <td>0</td>\n",
       "      <td>Yes</td>\n",
       "      <td>Self-employed</td>\n",
       "      <td>Rural</td>\n",
       "      <td>174.12</td>\n",
       "      <td>24.0</td>\n",
       "      <td>never smoked</td>\n",
       "      <td>1</td>\n",
       "    </tr>\n",
       "  </tbody>\n",
       "</table>\n",
       "</div>"
      ],
      "text/plain": [
       "      id  gender   age  hypertension  heart_disease ever_married  \\\n",
       "0   9046    Male  67.0             0              1          Yes   \n",
       "1  51676  Female  61.0             0              0          Yes   \n",
       "2  31112    Male  80.0             0              1          Yes   \n",
       "3  60182  Female  49.0             0              0          Yes   \n",
       "4   1665  Female  79.0             1              0          Yes   \n",
       "\n",
       "       work_type Residence_type  avg_glucose_level   bmi   smoking_status  \\\n",
       "0        Private          Urban             228.69  36.6  formerly smoked   \n",
       "1  Self-employed          Rural             202.21   NaN     never smoked   \n",
       "2        Private          Rural             105.92  32.5     never smoked   \n",
       "3        Private          Urban             171.23  34.4           smokes   \n",
       "4  Self-employed          Rural             174.12  24.0     never smoked   \n",
       "\n",
       "   stroke  \n",
       "0       1  \n",
       "1       1  \n",
       "2       1  \n",
       "3       1  \n",
       "4       1  "
      ]
     },
     "execution_count": 3,
     "metadata": {},
     "output_type": "execute_result"
    }
   ],
   "source": [
    "df.head()"
   ]
  },
  {
   "cell_type": "code",
   "execution_count": 4,
   "id": "4ead04b0",
   "metadata": {
    "execution": {
     "iopub.execute_input": "2024-04-16T08:45:20.993888Z",
     "iopub.status.busy": "2024-04-16T08:45:20.991527Z",
     "iopub.status.idle": "2024-04-16T08:45:21.047989Z",
     "shell.execute_reply": "2024-04-16T08:45:21.046341Z"
    },
    "papermill": {
     "duration": 0.078747,
     "end_time": "2024-04-16T08:45:21.050629",
     "exception": false,
     "start_time": "2024-04-16T08:45:20.971882",
     "status": "completed"
    },
    "tags": []
   },
   "outputs": [
    {
     "data": {
      "text/html": [
       "<div>\n",
       "<style scoped>\n",
       "    .dataframe tbody tr th:only-of-type {\n",
       "        vertical-align: middle;\n",
       "    }\n",
       "\n",
       "    .dataframe tbody tr th {\n",
       "        vertical-align: top;\n",
       "    }\n",
       "\n",
       "    .dataframe thead th {\n",
       "        text-align: right;\n",
       "    }\n",
       "</style>\n",
       "<table border=\"1\" class=\"dataframe\">\n",
       "  <thead>\n",
       "    <tr style=\"text-align: right;\">\n",
       "      <th></th>\n",
       "      <th>id</th>\n",
       "      <th>age</th>\n",
       "      <th>hypertension</th>\n",
       "      <th>heart_disease</th>\n",
       "      <th>avg_glucose_level</th>\n",
       "      <th>bmi</th>\n",
       "      <th>stroke</th>\n",
       "    </tr>\n",
       "  </thead>\n",
       "  <tbody>\n",
       "    <tr>\n",
       "      <th>count</th>\n",
       "      <td>5110.000000</td>\n",
       "      <td>5110.000000</td>\n",
       "      <td>5110.000000</td>\n",
       "      <td>5110.000000</td>\n",
       "      <td>5110.000000</td>\n",
       "      <td>4909.000000</td>\n",
       "      <td>5110.000000</td>\n",
       "    </tr>\n",
       "    <tr>\n",
       "      <th>mean</th>\n",
       "      <td>36517.829354</td>\n",
       "      <td>43.226614</td>\n",
       "      <td>0.097456</td>\n",
       "      <td>0.054012</td>\n",
       "      <td>106.147677</td>\n",
       "      <td>28.893237</td>\n",
       "      <td>0.048728</td>\n",
       "    </tr>\n",
       "    <tr>\n",
       "      <th>std</th>\n",
       "      <td>21161.721625</td>\n",
       "      <td>22.612647</td>\n",
       "      <td>0.296607</td>\n",
       "      <td>0.226063</td>\n",
       "      <td>45.283560</td>\n",
       "      <td>7.854067</td>\n",
       "      <td>0.215320</td>\n",
       "    </tr>\n",
       "    <tr>\n",
       "      <th>min</th>\n",
       "      <td>67.000000</td>\n",
       "      <td>0.080000</td>\n",
       "      <td>0.000000</td>\n",
       "      <td>0.000000</td>\n",
       "      <td>55.120000</td>\n",
       "      <td>10.300000</td>\n",
       "      <td>0.000000</td>\n",
       "    </tr>\n",
       "    <tr>\n",
       "      <th>25%</th>\n",
       "      <td>17741.250000</td>\n",
       "      <td>25.000000</td>\n",
       "      <td>0.000000</td>\n",
       "      <td>0.000000</td>\n",
       "      <td>77.245000</td>\n",
       "      <td>23.500000</td>\n",
       "      <td>0.000000</td>\n",
       "    </tr>\n",
       "    <tr>\n",
       "      <th>50%</th>\n",
       "      <td>36932.000000</td>\n",
       "      <td>45.000000</td>\n",
       "      <td>0.000000</td>\n",
       "      <td>0.000000</td>\n",
       "      <td>91.885000</td>\n",
       "      <td>28.100000</td>\n",
       "      <td>0.000000</td>\n",
       "    </tr>\n",
       "    <tr>\n",
       "      <th>75%</th>\n",
       "      <td>54682.000000</td>\n",
       "      <td>61.000000</td>\n",
       "      <td>0.000000</td>\n",
       "      <td>0.000000</td>\n",
       "      <td>114.090000</td>\n",
       "      <td>33.100000</td>\n",
       "      <td>0.000000</td>\n",
       "    </tr>\n",
       "    <tr>\n",
       "      <th>max</th>\n",
       "      <td>72940.000000</td>\n",
       "      <td>82.000000</td>\n",
       "      <td>1.000000</td>\n",
       "      <td>1.000000</td>\n",
       "      <td>271.740000</td>\n",
       "      <td>97.600000</td>\n",
       "      <td>1.000000</td>\n",
       "    </tr>\n",
       "  </tbody>\n",
       "</table>\n",
       "</div>"
      ],
      "text/plain": [
       "                 id          age  hypertension  heart_disease  \\\n",
       "count   5110.000000  5110.000000   5110.000000    5110.000000   \n",
       "mean   36517.829354    43.226614      0.097456       0.054012   \n",
       "std    21161.721625    22.612647      0.296607       0.226063   \n",
       "min       67.000000     0.080000      0.000000       0.000000   \n",
       "25%    17741.250000    25.000000      0.000000       0.000000   \n",
       "50%    36932.000000    45.000000      0.000000       0.000000   \n",
       "75%    54682.000000    61.000000      0.000000       0.000000   \n",
       "max    72940.000000    82.000000      1.000000       1.000000   \n",
       "\n",
       "       avg_glucose_level          bmi       stroke  \n",
       "count        5110.000000  4909.000000  5110.000000  \n",
       "mean          106.147677    28.893237     0.048728  \n",
       "std            45.283560     7.854067     0.215320  \n",
       "min            55.120000    10.300000     0.000000  \n",
       "25%            77.245000    23.500000     0.000000  \n",
       "50%            91.885000    28.100000     0.000000  \n",
       "75%           114.090000    33.100000     0.000000  \n",
       "max           271.740000    97.600000     1.000000  "
      ]
     },
     "execution_count": 4,
     "metadata": {},
     "output_type": "execute_result"
    }
   ],
   "source": [
    "df.describe()"
   ]
  },
  {
   "cell_type": "code",
   "execution_count": 5,
   "id": "8d531c71",
   "metadata": {
    "execution": {
     "iopub.execute_input": "2024-04-16T08:45:21.074696Z",
     "iopub.status.busy": "2024-04-16T08:45:21.073319Z",
     "iopub.status.idle": "2024-04-16T08:45:21.081644Z",
     "shell.execute_reply": "2024-04-16T08:45:21.080508Z"
    },
    "papermill": {
     "duration": 0.022853,
     "end_time": "2024-04-16T08:45:21.084191",
     "exception": false,
     "start_time": "2024-04-16T08:45:21.061338",
     "status": "completed"
    },
    "tags": []
   },
   "outputs": [
    {
     "data": {
      "text/plain": [
       "(5110, 12)"
      ]
     },
     "execution_count": 5,
     "metadata": {},
     "output_type": "execute_result"
    }
   ],
   "source": [
    "df.shape"
   ]
  },
  {
   "cell_type": "code",
   "execution_count": 6,
   "id": "c04bd682",
   "metadata": {
    "execution": {
     "iopub.execute_input": "2024-04-16T08:45:21.109401Z",
     "iopub.status.busy": "2024-04-16T08:45:21.108030Z",
     "iopub.status.idle": "2024-04-16T08:45:21.129266Z",
     "shell.execute_reply": "2024-04-16T08:45:21.128111Z"
    },
    "papermill": {
     "duration": 0.036621,
     "end_time": "2024-04-16T08:45:21.131833",
     "exception": false,
     "start_time": "2024-04-16T08:45:21.095212",
     "status": "completed"
    },
    "tags": []
   },
   "outputs": [
    {
     "data": {
      "text/plain": [
       "id                   5110\n",
       "gender                  3\n",
       "age                   104\n",
       "hypertension            2\n",
       "heart_disease           2\n",
       "ever_married            2\n",
       "work_type               5\n",
       "Residence_type          2\n",
       "avg_glucose_level    3979\n",
       "bmi                   418\n",
       "smoking_status          4\n",
       "stroke                  2\n",
       "dtype: int64"
      ]
     },
     "execution_count": 6,
     "metadata": {},
     "output_type": "execute_result"
    }
   ],
   "source": [
    "df.nunique()"
   ]
  },
  {
   "cell_type": "code",
   "execution_count": 7,
   "id": "d9c5bb46",
   "metadata": {
    "execution": {
     "iopub.execute_input": "2024-04-16T08:45:21.156458Z",
     "iopub.status.busy": "2024-04-16T08:45:21.155438Z",
     "iopub.status.idle": "2024-04-16T08:45:21.186878Z",
     "shell.execute_reply": "2024-04-16T08:45:21.185606Z"
    },
    "papermill": {
     "duration": 0.047256,
     "end_time": "2024-04-16T08:45:21.190029",
     "exception": false,
     "start_time": "2024-04-16T08:45:21.142773",
     "status": "completed"
    },
    "tags": []
   },
   "outputs": [
    {
     "name": "stdout",
     "output_type": "stream",
     "text": [
      "<class 'pandas.core.frame.DataFrame'>\n",
      "RangeIndex: 5110 entries, 0 to 5109\n",
      "Data columns (total 12 columns):\n",
      " #   Column             Non-Null Count  Dtype  \n",
      "---  ------             --------------  -----  \n",
      " 0   id                 5110 non-null   int64  \n",
      " 1   gender             5110 non-null   object \n",
      " 2   age                5110 non-null   float64\n",
      " 3   hypertension       5110 non-null   int64  \n",
      " 4   heart_disease      5110 non-null   int64  \n",
      " 5   ever_married       5110 non-null   object \n",
      " 6   work_type          5110 non-null   object \n",
      " 7   Residence_type     5110 non-null   object \n",
      " 8   avg_glucose_level  5110 non-null   float64\n",
      " 9   bmi                4909 non-null   float64\n",
      " 10  smoking_status     5110 non-null   object \n",
      " 11  stroke             5110 non-null   int64  \n",
      "dtypes: float64(3), int64(4), object(5)\n",
      "memory usage: 479.2+ KB\n"
     ]
    }
   ],
   "source": [
    "df.info()"
   ]
  },
  {
   "cell_type": "code",
   "execution_count": 8,
   "id": "acfe2c9c",
   "metadata": {
    "execution": {
     "iopub.execute_input": "2024-04-16T08:45:21.217712Z",
     "iopub.status.busy": "2024-04-16T08:45:21.216180Z",
     "iopub.status.idle": "2024-04-16T08:45:21.877459Z",
     "shell.execute_reply": "2024-04-16T08:45:21.876207Z"
    },
    "papermill": {
     "duration": 0.677554,
     "end_time": "2024-04-16T08:45:21.880541",
     "exception": false,
     "start_time": "2024-04-16T08:45:21.202987",
     "status": "completed"
    },
    "tags": []
   },
   "outputs": [
    {
     "data": {
      "image/png": "[encoded data removed]",
      "text/plain": [
       "<Figure size 640x480 with 1 Axes>"
      ]
     },
     "metadata": {},
     "output_type": "display_data"
    }
   ],
   "source": [
    "sns.heatmap(df.isnull(),cmap = 'viridis',cbar = False);"
   ]
  },
  {
   "cell_type": "markdown",
   "id": "f8f5ee47",
   "metadata": {
    "papermill": {
     "duration": 0.012403,
     "end_time": "2024-04-16T08:45:21.905286",
     "exception": false,
     "start_time": "2024-04-16T08:45:21.892883",
     "status": "completed"
    },
    "tags": []
   },
   "source": [
    "berdasarkan hasil diatas bahwa hanya BMI yang memiliki nilai nulls "
   ]
  },
  {
   "cell_type": "code",
   "execution_count": 9,
   "id": "a4bad6d4",
   "metadata": {
    "execution": {
     "iopub.execute_input": "2024-04-16T08:45:21.931553Z",
     "iopub.status.busy": "2024-04-16T08:45:21.930326Z",
     "iopub.status.idle": "2024-04-16T08:45:21.947702Z",
     "shell.execute_reply": "2024-04-16T08:45:21.946405Z"
    },
    "papermill": {
     "duration": 0.033525,
     "end_time": "2024-04-16T08:45:21.950498",
     "exception": false,
     "start_time": "2024-04-16T08:45:21.916973",
     "status": "completed"
    },
    "tags": []
   },
   "outputs": [
    {
     "data": {
      "text/plain": [
       "0       False\n",
       "1       False\n",
       "2       False\n",
       "3       False\n",
       "4       False\n",
       "        ...  \n",
       "5105    False\n",
       "5106    False\n",
       "5107    False\n",
       "5108    False\n",
       "5109    False\n",
       "Length: 5110, dtype: bool"
      ]
     },
     "execution_count": 9,
     "metadata": {},
     "output_type": "execute_result"
    }
   ],
   "source": [
    "df.duplicated()"
   ]
  },
  {
   "cell_type": "markdown",
   "id": "b9f8e2a0",
   "metadata": {
    "papermill": {
     "duration": 0.011531,
     "end_time": "2024-04-16T08:45:21.973896",
     "exception": false,
     "start_time": "2024-04-16T08:45:21.962365",
     "status": "completed"
    },
    "tags": []
   },
   "source": []
  },
  {
   "cell_type": "markdown",
   "id": "e0209bc9",
   "metadata": {
    "papermill": {
     "duration": 0.011593,
     "end_time": "2024-04-16T08:45:21.997392",
     "exception": false,
     "start_time": "2024-04-16T08:45:21.985799",
     "status": "completed"
    },
    "tags": []
   },
   "source": [
    "# EDA (Exploratory Data Analysis)"
   ]
  },
  {
   "cell_type": "code",
   "execution_count": 10,
   "id": "de77ad0f",
   "metadata": {
    "execution": {
     "iopub.execute_input": "2024-04-16T08:45:22.023467Z",
     "iopub.status.busy": "2024-04-16T08:45:22.023021Z",
     "iopub.status.idle": "2024-04-16T08:45:22.031006Z",
     "shell.execute_reply": "2024-04-16T08:45:22.029839Z"
    },
    "papermill": {
     "duration": 0.024104,
     "end_time": "2024-04-16T08:45:22.033686",
     "exception": false,
     "start_time": "2024-04-16T08:45:22.009582",
     "status": "completed"
    },
    "tags": []
   },
   "outputs": [
    {
     "data": {
      "text/plain": [
       "Index(['id', 'gender', 'age', 'hypertension', 'heart_disease', 'ever_married',\n",
       "       'work_type', 'Residence_type', 'avg_glucose_level', 'bmi',\n",
       "       'smoking_status', 'stroke'],\n",
       "      dtype='object')"
      ]
     },
     "execution_count": 10,
     "metadata": {},
     "output_type": "execute_result"
    }
   ],
   "source": [
    "df.columns"
   ]
  },
  {
   "cell_type": "code",
   "execution_count": 11,
   "id": "6d1ccda7",
   "metadata": {
    "execution": {
     "iopub.execute_input": "2024-04-16T08:45:22.060073Z",
     "iopub.status.busy": "2024-04-16T08:45:22.059669Z",
     "iopub.status.idle": "2024-04-16T08:45:22.068987Z",
     "shell.execute_reply": "2024-04-16T08:45:22.067930Z"
    },
    "papermill": {
     "duration": 0.025469,
     "end_time": "2024-04-16T08:45:22.071317",
     "exception": false,
     "start_time": "2024-04-16T08:45:22.045848",
     "status": "completed"
    },
    "tags": []
   },
   "outputs": [
    {
     "data": {
      "text/plain": [
       "['id',\n",
       " 'age',\n",
       " 'hypertension',\n",
       " 'heart_disease',\n",
       " 'avg_glucose_level',\n",
       " 'bmi',\n",
       " 'stroke']"
      ]
     },
     "execution_count": 11,
     "metadata": {},
     "output_type": "execute_result"
    }
   ],
   "source": [
    "discrete = df.select_dtypes(include=['int64','float64']).columns.tolist()\n",
    "discrete"
   ]
  },
  {
   "cell_type": "code",
   "execution_count": 12,
   "id": "ac039816",
   "metadata": {
    "execution": {
     "iopub.execute_input": "2024-04-16T08:45:22.099064Z",
     "iopub.status.busy": "2024-04-16T08:45:22.098076Z",
     "iopub.status.idle": "2024-04-16T08:45:22.106635Z",
     "shell.execute_reply": "2024-04-16T08:45:22.105011Z"
    },
    "papermill": {
     "duration": 0.024861,
     "end_time": "2024-04-16T08:45:22.108978",
     "exception": false,
     "start_time": "2024-04-16T08:45:22.084117",
     "status": "completed"
    },
    "tags": []
   },
   "outputs": [
    {
     "name": "stdout",
     "output_type": "stream",
     "text": [
      "['gender', 'ever_married', 'work_type', 'Residence_type', 'smoking_status']\n"
     ]
    }
   ],
   "source": [
    "categorical_feature= df.columns[df.dtypes=='object'].tolist()\n",
    "print(categorical_feature)"
   ]
  },
  {
   "cell_type": "code",
   "execution_count": 13,
   "id": "e4365e01",
   "metadata": {
    "execution": {
     "iopub.execute_input": "2024-04-16T08:45:22.135878Z",
     "iopub.status.busy": "2024-04-16T08:45:22.135395Z",
     "iopub.status.idle": "2024-04-16T08:45:22.461847Z",
     "shell.execute_reply": "2024-04-16T08:45:22.460485Z"
    },
    "papermill": {
     "duration": 0.343175,
     "end_time": "2024-04-16T08:45:22.464605",
     "exception": false,
     "start_time": "2024-04-16T08:45:22.121430",
     "status": "completed"
    },
    "tags": []
   },
   "outputs": [
    {
     "data": {
      "text/plain": [
       "(array([175., 145., 114., 109., 102., 151., 170., 106., 164., 174., 160.,\n",
       "        150., 179., 200., 218., 141., 222., 220., 169., 262., 255., 220.,\n",
       "        150., 189., 156., 160.,  91., 143., 229., 186.]),\n",
       " array([8.00000000e-02, 2.81066667e+00, 5.54133333e+00, 8.27200000e+00,\n",
       "        1.10026667e+01, 1.37333333e+01, 1.64640000e+01, 1.91946667e+01,\n",
       "        2.19253333e+01, 2.46560000e+01, 2.73866667e+01, 3.01173333e+01,\n",
       "        3.28480000e+01, 3.55786667e+01, 3.83093333e+01, 4.10400000e+01,\n",
       "        4.37706667e+01, 4.65013333e+01, 4.92320000e+01, 5.19626667e+01,\n",
       "        5.46933333e+01, 5.74240000e+01, 6.01546667e+01, 6.28853333e+01,\n",
       "        6.56160000e+01, 6.83466667e+01, 7.10773333e+01, 7.38080000e+01,\n",
       "        7.65386667e+01, 7.92693333e+01, 8.20000000e+01]),\n",
       " <BarContainer object of 30 artists>)"
      ]
     },
     "execution_count": 13,
     "metadata": {},
     "output_type": "execute_result"
    },
    {
     "data": {
      "image/png": "[encoded data removed]",
      "text/plain": [
       "<Figure size 640x480 with 1 Axes>"
      ]
     },
     "metadata": {},
     "output_type": "display_data"
    }
   ],
   "source": [
    "plt.hist(df['age'], color = 'gray', edgecolor = 'black', bins = 30)"
   ]
  },
  {
   "cell_type": "markdown",
   "id": "e277899f",
   "metadata": {
    "papermill": {
     "duration": 0.01221,
     "end_time": "2024-04-16T08:45:22.490035",
     "exception": false,
     "start_time": "2024-04-16T08:45:22.477825",
     "status": "completed"
    },
    "tags": []
   },
   "source": [
    "* terlihat distribusi data age mengalami pola yang turun naik hal ini menunjukkan data tidak simetris\n",
    "\n",
    "* ternyata pasien kebanyakan di usia 40 tahunan, dan usia minimumnya ada di bawah 20 tahun"
   ]
  },
  {
   "cell_type": "markdown",
   "id": "38bf410c",
   "metadata": {
    "papermill": {
     "duration": 0.012183,
     "end_time": "2024-04-16T08:45:22.514880",
     "exception": false,
     "start_time": "2024-04-16T08:45:22.502697",
     "status": "completed"
    },
    "tags": []
   },
   "source": [
    "**Apakah terdapat rentang usia tertentu yang lebih rentan terhadap stroke ?**"
   ]
  },
  {
   "cell_type": "code",
   "execution_count": 14,
   "id": "e4a3ef79",
   "metadata": {
    "execution": {
     "iopub.execute_input": "2024-04-16T08:45:22.541982Z",
     "iopub.status.busy": "2024-04-16T08:45:22.541591Z",
     "iopub.status.idle": "2024-04-16T08:45:22.563469Z",
     "shell.execute_reply": "2024-04-16T08:45:22.562293Z"
    },
    "papermill": {
     "duration": 0.038399,
     "end_time": "2024-04-16T08:45:22.565811",
     "exception": false,
     "start_time": "2024-04-16T08:45:22.527412",
     "status": "completed"
    },
    "tags": []
   },
   "outputs": [
    {
     "data": {
      "text/html": [
       "<div>\n",
       "<style scoped>\n",
       "    .dataframe tbody tr th:only-of-type {\n",
       "        vertical-align: middle;\n",
       "    }\n",
       "\n",
       "    .dataframe tbody tr th {\n",
       "        vertical-align: top;\n",
       "    }\n",
       "\n",
       "    .dataframe thead th {\n",
       "        text-align: right;\n",
       "    }\n",
       "</style>\n",
       "<table border=\"1\" class=\"dataframe\">\n",
       "  <thead>\n",
       "    <tr style=\"text-align: right;\">\n",
       "      <th></th>\n",
       "      <th>age</th>\n",
       "      <th>stroke</th>\n",
       "    </tr>\n",
       "  </thead>\n",
       "  <tbody>\n",
       "    <tr>\n",
       "      <th>363</th>\n",
       "      <td>0.64</td>\n",
       "      <td>0</td>\n",
       "    </tr>\n",
       "    <tr>\n",
       "      <th>376</th>\n",
       "      <td>0.88</td>\n",
       "      <td>0</td>\n",
       "    </tr>\n",
       "    <tr>\n",
       "      <th>564</th>\n",
       "      <td>0.32</td>\n",
       "      <td>0</td>\n",
       "    </tr>\n",
       "    <tr>\n",
       "      <th>844</th>\n",
       "      <td>1.00</td>\n",
       "      <td>0</td>\n",
       "    </tr>\n",
       "    <tr>\n",
       "      <th>951</th>\n",
       "      <td>1.00</td>\n",
       "      <td>0</td>\n",
       "    </tr>\n",
       "    <tr>\n",
       "      <th>982</th>\n",
       "      <td>0.88</td>\n",
       "      <td>0</td>\n",
       "    </tr>\n",
       "    <tr>\n",
       "      <th>996</th>\n",
       "      <td>0.24</td>\n",
       "      <td>0</td>\n",
       "    </tr>\n",
       "    <tr>\n",
       "      <th>1093</th>\n",
       "      <td>0.32</td>\n",
       "      <td>0</td>\n",
       "    </tr>\n",
       "    <tr>\n",
       "      <th>1206</th>\n",
       "      <td>0.72</td>\n",
       "      <td>0</td>\n",
       "    </tr>\n",
       "    <tr>\n",
       "      <th>1317</th>\n",
       "      <td>0.80</td>\n",
       "      <td>0</td>\n",
       "    </tr>\n",
       "    <tr>\n",
       "      <th>1432</th>\n",
       "      <td>1.00</td>\n",
       "      <td>0</td>\n",
       "    </tr>\n",
       "    <tr>\n",
       "      <th>1600</th>\n",
       "      <td>0.40</td>\n",
       "      <td>0</td>\n",
       "    </tr>\n",
       "    <tr>\n",
       "      <th>1614</th>\n",
       "      <td>0.08</td>\n",
       "      <td>0</td>\n",
       "    </tr>\n",
       "    <tr>\n",
       "      <th>1794</th>\n",
       "      <td>1.00</td>\n",
       "      <td>0</td>\n",
       "    </tr>\n",
       "    <tr>\n",
       "      <th>1808</th>\n",
       "      <td>0.64</td>\n",
       "      <td>0</td>\n",
       "    </tr>\n",
       "    <tr>\n",
       "      <th>1975</th>\n",
       "      <td>0.56</td>\n",
       "      <td>0</td>\n",
       "    </tr>\n",
       "    <tr>\n",
       "      <th>1999</th>\n",
       "      <td>0.24</td>\n",
       "      <td>0</td>\n",
       "    </tr>\n",
       "    <tr>\n",
       "      <th>2008</th>\n",
       "      <td>0.56</td>\n",
       "      <td>0</td>\n",
       "    </tr>\n",
       "    <tr>\n",
       "      <th>2012</th>\n",
       "      <td>0.64</td>\n",
       "      <td>0</td>\n",
       "    </tr>\n",
       "    <tr>\n",
       "      <th>2030</th>\n",
       "      <td>0.48</td>\n",
       "      <td>0</td>\n",
       "    </tr>\n",
       "    <tr>\n",
       "      <th>2240</th>\n",
       "      <td>1.00</td>\n",
       "      <td>0</td>\n",
       "    </tr>\n",
       "    <tr>\n",
       "      <th>2358</th>\n",
       "      <td>0.88</td>\n",
       "      <td>0</td>\n",
       "    </tr>\n",
       "    <tr>\n",
       "      <th>2481</th>\n",
       "      <td>0.88</td>\n",
       "      <td>0</td>\n",
       "    </tr>\n",
       "    <tr>\n",
       "      <th>2490</th>\n",
       "      <td>0.88</td>\n",
       "      <td>0</td>\n",
       "    </tr>\n",
       "    <tr>\n",
       "      <th>2579</th>\n",
       "      <td>0.32</td>\n",
       "      <td>0</td>\n",
       "    </tr>\n",
       "    <tr>\n",
       "      <th>2630</th>\n",
       "      <td>0.80</td>\n",
       "      <td>0</td>\n",
       "    </tr>\n",
       "    <tr>\n",
       "      <th>2801</th>\n",
       "      <td>0.80</td>\n",
       "      <td>0</td>\n",
       "    </tr>\n",
       "    <tr>\n",
       "      <th>2875</th>\n",
       "      <td>0.64</td>\n",
       "      <td>0</td>\n",
       "    </tr>\n",
       "    <tr>\n",
       "      <th>2898</th>\n",
       "      <td>0.24</td>\n",
       "      <td>0</td>\n",
       "    </tr>\n",
       "    <tr>\n",
       "      <th>3251</th>\n",
       "      <td>0.56</td>\n",
       "      <td>0</td>\n",
       "    </tr>\n",
       "    <tr>\n",
       "      <th>3295</th>\n",
       "      <td>0.08</td>\n",
       "      <td>0</td>\n",
       "    </tr>\n",
       "    <tr>\n",
       "      <th>3392</th>\n",
       "      <td>0.24</td>\n",
       "      <td>0</td>\n",
       "    </tr>\n",
       "    <tr>\n",
       "      <th>3440</th>\n",
       "      <td>0.56</td>\n",
       "      <td>0</td>\n",
       "    </tr>\n",
       "    <tr>\n",
       "      <th>3618</th>\n",
       "      <td>0.16</td>\n",
       "      <td>0</td>\n",
       "    </tr>\n",
       "    <tr>\n",
       "      <th>3626</th>\n",
       "      <td>0.80</td>\n",
       "      <td>0</td>\n",
       "    </tr>\n",
       "    <tr>\n",
       "      <th>3859</th>\n",
       "      <td>0.32</td>\n",
       "      <td>0</td>\n",
       "    </tr>\n",
       "    <tr>\n",
       "      <th>3894</th>\n",
       "      <td>0.56</td>\n",
       "      <td>0</td>\n",
       "    </tr>\n",
       "    <tr>\n",
       "      <th>3968</th>\n",
       "      <td>0.16</td>\n",
       "      <td>0</td>\n",
       "    </tr>\n",
       "    <tr>\n",
       "      <th>4007</th>\n",
       "      <td>0.72</td>\n",
       "      <td>0</td>\n",
       "    </tr>\n",
       "    <tr>\n",
       "      <th>4021</th>\n",
       "      <td>0.16</td>\n",
       "      <td>0</td>\n",
       "    </tr>\n",
       "    <tr>\n",
       "      <th>4053</th>\n",
       "      <td>0.48</td>\n",
       "      <td>0</td>\n",
       "    </tr>\n",
       "    <tr>\n",
       "      <th>4293</th>\n",
       "      <td>0.24</td>\n",
       "      <td>0</td>\n",
       "    </tr>\n",
       "    <tr>\n",
       "      <th>4409</th>\n",
       "      <td>0.72</td>\n",
       "      <td>0</td>\n",
       "    </tr>\n",
       "    <tr>\n",
       "      <th>4581</th>\n",
       "      <td>0.40</td>\n",
       "      <td>0</td>\n",
       "    </tr>\n",
       "    <tr>\n",
       "      <th>4645</th>\n",
       "      <td>0.48</td>\n",
       "      <td>0</td>\n",
       "    </tr>\n",
       "    <tr>\n",
       "      <th>4910</th>\n",
       "      <td>0.32</td>\n",
       "      <td>0</td>\n",
       "    </tr>\n",
       "    <tr>\n",
       "      <th>4929</th>\n",
       "      <td>0.72</td>\n",
       "      <td>0</td>\n",
       "    </tr>\n",
       "    <tr>\n",
       "      <th>5089</th>\n",
       "      <td>0.72</td>\n",
       "      <td>0</td>\n",
       "    </tr>\n",
       "  </tbody>\n",
       "</table>\n",
       "</div>"
      ],
      "text/plain": [
       "       age  stroke\n",
       "363   0.64       0\n",
       "376   0.88       0\n",
       "564   0.32       0\n",
       "844   1.00       0\n",
       "951   1.00       0\n",
       "982   0.88       0\n",
       "996   0.24       0\n",
       "1093  0.32       0\n",
       "1206  0.72       0\n",
       "1317  0.80       0\n",
       "1432  1.00       0\n",
       "1600  0.40       0\n",
       "1614  0.08       0\n",
       "1794  1.00       0\n",
       "1808  0.64       0\n",
       "1975  0.56       0\n",
       "1999  0.24       0\n",
       "2008  0.56       0\n",
       "2012  0.64       0\n",
       "2030  0.48       0\n",
       "2240  1.00       0\n",
       "2358  0.88       0\n",
       "2481  0.88       0\n",
       "2490  0.88       0\n",
       "2579  0.32       0\n",
       "2630  0.80       0\n",
       "2801  0.80       0\n",
       "2875  0.64       0\n",
       "2898  0.24       0\n",
       "3251  0.56       0\n",
       "3295  0.08       0\n",
       "3392  0.24       0\n",
       "3440  0.56       0\n",
       "3618  0.16       0\n",
       "3626  0.80       0\n",
       "3859  0.32       0\n",
       "3894  0.56       0\n",
       "3968  0.16       0\n",
       "4007  0.72       0\n",
       "4021  0.16       0\n",
       "4053  0.48       0\n",
       "4293  0.24       0\n",
       "4409  0.72       0\n",
       "4581  0.40       0\n",
       "4645  0.48       0\n",
       "4910  0.32       0\n",
       "4929  0.72       0\n",
       "5089  0.72       0"
      ]
     },
     "execution_count": 14,
     "metadata": {},
     "output_type": "execute_result"
    }
   ],
   "source": [
    "df[df['age'] <= 1][['age', 'stroke']]"
   ]
  },
  {
   "cell_type": "markdown",
   "id": "5ca13dff",
   "metadata": {
    "papermill": {
     "duration": 0.012731,
     "end_time": "2024-04-16T08:45:22.591639",
     "exception": false,
     "start_time": "2024-04-16T08:45:22.578908",
     "status": "completed"
    },
    "tags": []
   },
   "source": []
  },
  {
   "cell_type": "code",
   "execution_count": 15,
   "id": "0032601c",
   "metadata": {
    "execution": {
     "iopub.execute_input": "2024-04-16T08:45:22.620112Z",
     "iopub.status.busy": "2024-04-16T08:45:22.619699Z",
     "iopub.status.idle": "2024-04-16T08:45:22.634651Z",
     "shell.execute_reply": "2024-04-16T08:45:22.633369Z"
    },
    "papermill": {
     "duration": 0.031661,
     "end_time": "2024-04-16T08:45:22.636945",
     "exception": false,
     "start_time": "2024-04-16T08:45:22.605284",
     "status": "completed"
    },
    "tags": []
   },
   "outputs": [
    {
     "data": {
      "text/html": [
       "<div>\n",
       "<style scoped>\n",
       "    .dataframe tbody tr th:only-of-type {\n",
       "        vertical-align: middle;\n",
       "    }\n",
       "\n",
       "    .dataframe tbody tr th {\n",
       "        vertical-align: top;\n",
       "    }\n",
       "\n",
       "    .dataframe thead th {\n",
       "        text-align: right;\n",
       "    }\n",
       "</style>\n",
       "<table border=\"1\" class=\"dataframe\">\n",
       "  <thead>\n",
       "    <tr style=\"text-align: right;\">\n",
       "      <th></th>\n",
       "      <th>stroke</th>\n",
       "      <th>count</th>\n",
       "    </tr>\n",
       "  </thead>\n",
       "  <tbody>\n",
       "    <tr>\n",
       "      <th>0</th>\n",
       "      <td>0</td>\n",
       "      <td>4861</td>\n",
       "    </tr>\n",
       "    <tr>\n",
       "      <th>1</th>\n",
       "      <td>1</td>\n",
       "      <td>249</td>\n",
       "    </tr>\n",
       "  </tbody>\n",
       "</table>\n",
       "</div>"
      ],
      "text/plain": [
       "   stroke  count\n",
       "0       0   4861\n",
       "1       1    249"
      ]
     },
     "execution_count": 15,
     "metadata": {},
     "output_type": "execute_result"
    }
   ],
   "source": [
    "stroke_counts= df['stroke'].value_counts().reset_index()\n",
    "stroke_counts"
   ]
  },
  {
   "cell_type": "code",
   "execution_count": 16,
   "id": "a9c3fb5e",
   "metadata": {
    "execution": {
     "iopub.execute_input": "2024-04-16T08:45:22.665294Z",
     "iopub.status.busy": "2024-04-16T08:45:22.664851Z",
     "iopub.status.idle": "2024-04-16T08:45:22.915914Z",
     "shell.execute_reply": "2024-04-16T08:45:22.914722Z"
    },
    "papermill": {
     "duration": 0.268595,
     "end_time": "2024-04-16T08:45:22.918853",
     "exception": false,
     "start_time": "2024-04-16T08:45:22.650258",
     "status": "completed"
    },
    "tags": []
   },
   "outputs": [
    {
     "data": {
      "image/png": "[encoded data removed]",
      "text/plain": [
       "<Figure size 640x480 with 1 Axes>"
      ]
     },
     "metadata": {},
     "output_type": "display_data"
    }
   ],
   "source": [
    "df[\"stroke\"].value_counts().plot(kind=\"bar\");"
   ]
  },
  {
   "cell_type": "markdown",
   "id": "a4fcce11",
   "metadata": {
    "papermill": {
     "duration": 0.013276,
     "end_time": "2024-04-16T08:45:22.946484",
     "exception": false,
     "start_time": "2024-04-16T08:45:22.933208",
     "status": "completed"
    },
    "tags": []
   },
   "source": [
    "ada sekitar 4861 orang yang tidak terkena stroke,jika dibandingkan dengan orang penderita stroke jelas sekali data ini tidak seimbang dan mungkin hasil prediksi akan menjadi error "
   ]
  },
  {
   "cell_type": "code",
   "execution_count": 17,
   "id": "d1999b1c",
   "metadata": {
    "execution": {
     "iopub.execute_input": "2024-04-16T08:45:22.977728Z",
     "iopub.status.busy": "2024-04-16T08:45:22.977044Z",
     "iopub.status.idle": "2024-04-16T08:45:22.986198Z",
     "shell.execute_reply": "2024-04-16T08:45:22.984717Z"
    },
    "papermill": {
     "duration": 0.027554,
     "end_time": "2024-04-16T08:45:22.988802",
     "exception": false,
     "start_time": "2024-04-16T08:45:22.961248",
     "status": "completed"
    },
    "tags": []
   },
   "outputs": [
    {
     "data": {
      "text/plain": [
       "array([0.95127202, 0.04872798])"
      ]
     },
     "execution_count": 17,
     "metadata": {},
     "output_type": "execute_result"
    }
   ],
   "source": [
    "stroke_dist = df['stroke'].value_counts(normalize=True)\n",
    "stroke_dist.values"
   ]
  },
  {
   "cell_type": "code",
   "execution_count": null,
   "id": "a67f134c",
   "metadata": {
    "papermill": {
     "duration": 0.01329,
     "end_time": "2024-04-16T08:45:23.016043",
     "exception": false,
     "start_time": "2024-04-16T08:45:23.002753",
     "status": "completed"
    },
    "tags": []
   },
   "outputs": [],
   "source": []
  },
  {
   "cell_type": "markdown",
   "id": "5d30974a",
   "metadata": {
    "papermill": {
     "duration": 0.013254,
     "end_time": "2024-04-16T08:45:23.042996",
     "exception": false,
     "start_time": "2024-04-16T08:45:23.029742",
     "status": "completed"
    },
    "tags": []
   },
   "source": []
  },
  {
   "cell_type": "markdown",
   "id": "e9e85219",
   "metadata": {
    "papermill": {
     "duration": 0.013212,
     "end_time": "2024-04-16T08:45:23.069926",
     "exception": false,
     "start_time": "2024-04-16T08:45:23.056714",
     "status": "completed"
    },
    "tags": []
   },
   "source": []
  }
 ],
 "metadata": {
  "kaggle": {
   "accelerator": "none",
   "dataSources": [
    {
     "datasetId": 1120859,
     "sourceId": 1882037,
     "sourceType": "datasetVersion"
    }
   ],
   "dockerImageVersionId": 30673,
   "isGpuEnabled": false,
   "isInternetEnabled": false,
   "language": "python",
   "sourceType": "notebook"
  },
  "kernelspec": {
   "display_name": "Python 3",
   "language": "python",
   "name": "python3"
  },
  "language_info": {
   "codemirror_mode": {
    "name": "ipython",
    "version": 3
   },
   "file_extension": ".py",
   "mimetype": "text/x-python",
   "name": "python",
   "nbconvert_exporter": "python",
   "pygments_lexer": "ipython3",
   "version": "3.13.0"
  },
  "papermill": {
   "default_parameters": {},
   "duration": 10.360186,
   "end_time": "2024-04-16T08:45:23.807220",
   "environment_variables": {},
   "exception": null,
   "input_path": "__notebook__.ipynb",
   "output_path": "__notebook__.ipynb",
   "parameters": {},
   "start_time": "2024-04-16T08:45:13.447034",
   "version": "2.5.0"
  }
 },
 "nbformat": 4,
 "nbformat_minor": 5
}
